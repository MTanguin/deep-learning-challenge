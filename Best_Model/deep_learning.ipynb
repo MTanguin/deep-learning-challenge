{
 "cells": [
  {
   "cell_type": "markdown",
   "metadata": {
    "id": "SzglW1TP5kCY"
   },
   "source": [
    "## Preprocessing"
   ]
  },
  {
   "cell_type": "code",
   "execution_count": 114,
   "metadata": {
    "colab": {
     "base_uri": "https://localhost:8080/",
     "height": 285
    },
    "id": "zBXg_3nB5kCa",
    "outputId": "28d66f89-1a70-409a-f4eb-c075a075045b"
   },
   "outputs": [
    {
     "data": {
      "text/html": [
       "<div>\n",
       "<style scoped>\n",
       "    .dataframe tbody tr th:only-of-type {\n",
       "        vertical-align: middle;\n",
       "    }\n",
       "\n",
       "    .dataframe tbody tr th {\n",
       "        vertical-align: top;\n",
       "    }\n",
       "\n",
       "    .dataframe thead th {\n",
       "        text-align: right;\n",
       "    }\n",
       "</style>\n",
       "<table border=\"1\" class=\"dataframe\">\n",
       "  <thead>\n",
       "    <tr style=\"text-align: right;\">\n",
       "      <th></th>\n",
       "      <th>EIN</th>\n",
       "      <th>NAME</th>\n",
       "      <th>APPLICATION_TYPE</th>\n",
       "      <th>AFFILIATION</th>\n",
       "      <th>CLASSIFICATION</th>\n",
       "      <th>USE_CASE</th>\n",
       "      <th>ORGANIZATION</th>\n",
       "      <th>STATUS</th>\n",
       "      <th>INCOME_AMT</th>\n",
       "      <th>SPECIAL_CONSIDERATIONS</th>\n",
       "      <th>ASK_AMT</th>\n",
       "      <th>IS_SUCCESSFUL</th>\n",
       "    </tr>\n",
       "  </thead>\n",
       "  <tbody>\n",
       "    <tr>\n",
       "      <th>0</th>\n",
       "      <td>10520599</td>\n",
       "      <td>BLUE KNIGHTS MOTORCYCLE CLUB</td>\n",
       "      <td>T10</td>\n",
       "      <td>Independent</td>\n",
       "      <td>C1000</td>\n",
       "      <td>ProductDev</td>\n",
       "      <td>Association</td>\n",
       "      <td>1</td>\n",
       "      <td>0</td>\n",
       "      <td>N</td>\n",
       "      <td>5000</td>\n",
       "      <td>1</td>\n",
       "    </tr>\n",
       "    <tr>\n",
       "      <th>1</th>\n",
       "      <td>10531628</td>\n",
       "      <td>AMERICAN CHESAPEAKE CLUB CHARITABLE TR</td>\n",
       "      <td>T3</td>\n",
       "      <td>Independent</td>\n",
       "      <td>C2000</td>\n",
       "      <td>Preservation</td>\n",
       "      <td>Co-operative</td>\n",
       "      <td>1</td>\n",
       "      <td>1-9999</td>\n",
       "      <td>N</td>\n",
       "      <td>108590</td>\n",
       "      <td>1</td>\n",
       "    </tr>\n",
       "    <tr>\n",
       "      <th>2</th>\n",
       "      <td>10547893</td>\n",
       "      <td>ST CLOUD PROFESSIONAL FIREFIGHTERS</td>\n",
       "      <td>T5</td>\n",
       "      <td>CompanySponsored</td>\n",
       "      <td>C3000</td>\n",
       "      <td>ProductDev</td>\n",
       "      <td>Association</td>\n",
       "      <td>1</td>\n",
       "      <td>0</td>\n",
       "      <td>N</td>\n",
       "      <td>5000</td>\n",
       "      <td>0</td>\n",
       "    </tr>\n",
       "    <tr>\n",
       "      <th>3</th>\n",
       "      <td>10553066</td>\n",
       "      <td>SOUTHSIDE ATHLETIC ASSOCIATION</td>\n",
       "      <td>T3</td>\n",
       "      <td>CompanySponsored</td>\n",
       "      <td>C2000</td>\n",
       "      <td>Preservation</td>\n",
       "      <td>Trust</td>\n",
       "      <td>1</td>\n",
       "      <td>10000-24999</td>\n",
       "      <td>N</td>\n",
       "      <td>6692</td>\n",
       "      <td>1</td>\n",
       "    </tr>\n",
       "    <tr>\n",
       "      <th>4</th>\n",
       "      <td>10556103</td>\n",
       "      <td>GENETIC RESEARCH INSTITUTE OF THE DESERT</td>\n",
       "      <td>T3</td>\n",
       "      <td>Independent</td>\n",
       "      <td>C1000</td>\n",
       "      <td>Heathcare</td>\n",
       "      <td>Trust</td>\n",
       "      <td>1</td>\n",
       "      <td>100000-499999</td>\n",
       "      <td>N</td>\n",
       "      <td>142590</td>\n",
       "      <td>1</td>\n",
       "    </tr>\n",
       "  </tbody>\n",
       "</table>\n",
       "</div>"
      ],
      "text/plain": [
       "        EIN                                      NAME APPLICATION_TYPE  \\\n",
       "0  10520599              BLUE KNIGHTS MOTORCYCLE CLUB              T10   \n",
       "1  10531628    AMERICAN CHESAPEAKE CLUB CHARITABLE TR               T3   \n",
       "2  10547893        ST CLOUD PROFESSIONAL FIREFIGHTERS               T5   \n",
       "3  10553066            SOUTHSIDE ATHLETIC ASSOCIATION               T3   \n",
       "4  10556103  GENETIC RESEARCH INSTITUTE OF THE DESERT               T3   \n",
       "\n",
       "        AFFILIATION CLASSIFICATION      USE_CASE  ORGANIZATION  STATUS  \\\n",
       "0       Independent          C1000    ProductDev   Association       1   \n",
       "1       Independent          C2000  Preservation  Co-operative       1   \n",
       "2  CompanySponsored          C3000    ProductDev   Association       1   \n",
       "3  CompanySponsored          C2000  Preservation         Trust       1   \n",
       "4       Independent          C1000     Heathcare         Trust       1   \n",
       "\n",
       "      INCOME_AMT SPECIAL_CONSIDERATIONS  ASK_AMT  IS_SUCCESSFUL  \n",
       "0              0                      N     5000              1  \n",
       "1         1-9999                      N   108590              1  \n",
       "2              0                      N     5000              0  \n",
       "3    10000-24999                      N     6692              1  \n",
       "4  100000-499999                      N   142590              1  "
      ]
     },
     "execution_count": 114,
     "metadata": {},
     "output_type": "execute_result"
    }
   ],
   "source": [
    "# Import our dependencies\n",
    "from sklearn.model_selection import train_test_split\n",
    "from sklearn.preprocessing import StandardScaler\n",
    "import pandas as pd\n",
    "import tensorflow as tf\n",
    "\n",
    "#  Import and read the charity_data.csv.\n",
    "import pandas as pd \n",
    "application_df = pd.read_csv(\"https://static.bc-edx.com/data/dl-1-2/m21/lms/starter/charity_data.csv\")\n",
    "application_df.head()"
   ]
  },
  {
   "cell_type": "code",
   "execution_count": 115,
   "metadata": {
    "id": "uh7Pob085kCb"
   },
   "outputs": [],
   "source": [
    "# Drop the non-beneficial ID columns, 'EIN' and 'NAME'.\n",
    "application_df = application_df.drop(columns = ['EIN', 'NAME'])"
   ]
  },
  {
   "cell_type": "code",
   "execution_count": 116,
   "metadata": {},
   "outputs": [
    {
     "data": {
      "text/plain": [
       "Index(['APPLICATION_TYPE', 'AFFILIATION', 'CLASSIFICATION', 'USE_CASE',\n",
       "       'ORGANIZATION', 'STATUS', 'INCOME_AMT', 'SPECIAL_CONSIDERATIONS',\n",
       "       'ASK_AMT', 'IS_SUCCESSFUL'],\n",
       "      dtype='object')"
      ]
     },
     "execution_count": 116,
     "metadata": {},
     "output_type": "execute_result"
    }
   ],
   "source": [
    "application_df.columns"
   ]
  },
  {
   "cell_type": "code",
   "execution_count": 117,
   "metadata": {
    "colab": {
     "base_uri": "https://localhost:8080/"
    },
    "id": "8r6apZdv5kCc",
    "outputId": "a69da3ed-1de7-4401-9d19-e4fb921a8882"
   },
   "outputs": [
    {
     "name": "stdout",
     "output_type": "stream",
     "text": [
      "APPLICATION_TYPE            17\n",
      "AFFILIATION                  6\n",
      "CLASSIFICATION              71\n",
      "USE_CASE                     5\n",
      "ORGANIZATION                 4\n",
      "STATUS                       2\n",
      "INCOME_AMT                   9\n",
      "SPECIAL_CONSIDERATIONS       2\n",
      "ASK_AMT                   8747\n",
      "IS_SUCCESSFUL                2\n",
      "dtype: int64\n"
     ]
    }
   ],
   "source": [
    "# Determine the number of unique values in each column.\n",
    "# unique_value_counts = {x: len(application_df[x].unique()) for x in application_df.columns}\n",
    "# print(unique_value_counts) # or\n",
    "\n",
    "unique_value_counts = application_df.nunique()\n",
    "print(unique_value_counts)"
   ]
  },
  {
   "cell_type": "code",
   "execution_count": 118,
   "metadata": {
    "colab": {
     "base_uri": "https://localhost:8080/"
    },
    "id": "a1Z4uaF_5kCc",
    "outputId": "34aa28e7-b31b-49d4-c652-5907d81bb06e"
   },
   "outputs": [
    {
     "data": {
      "text/plain": [
       "T3     27037\n",
       "T4      1542\n",
       "T6      1216\n",
       "T5      1173\n",
       "T19     1065\n",
       "T8       737\n",
       "T7       725\n",
       "T10      528\n",
       "T9       156\n",
       "T13       66\n",
       "T12       27\n",
       "T2        16\n",
       "T25        3\n",
       "T14        3\n",
       "T29        2\n",
       "T15        2\n",
       "T17        1\n",
       "Name: APPLICATION_TYPE, dtype: int64"
      ]
     },
     "execution_count": 118,
     "metadata": {},
     "output_type": "execute_result"
    }
   ],
   "source": [
    "# Look at APPLICATION_TYPE value counts for binning\n",
    "counts = application_df['APPLICATION_TYPE'].value_counts()\n",
    "counts"
   ]
  },
  {
   "cell_type": "code",
   "execution_count": 119,
   "metadata": {
    "colab": {
     "base_uri": "https://localhost:8080/"
    },
    "id": "2OeLUSwd5kCc",
    "outputId": "30fbd0ad-f85d-43e7-c4d6-c3f8c4bc7569"
   },
   "outputs": [
    {
     "data": {
      "text/plain": [
       "T3       27037\n",
       "T4        1542\n",
       "T6        1216\n",
       "T5        1173\n",
       "T19       1065\n",
       "T8         737\n",
       "T7         725\n",
       "T10        528\n",
       "Other      276\n",
       "Name: APPLICATION_TYPE, dtype: int64"
      ]
     },
     "execution_count": 119,
     "metadata": {},
     "output_type": "execute_result"
    }
   ],
   "source": [
    "# Choose a cutoff value and create a list of application types to be replaced\n",
    "# use the variable name `application_types_to_replace`\n",
    "application_types_to_replace = list(counts[counts<500].index)\n",
    "application_types_to_replace\n",
    "\n",
    "# Replace in dataframe\n",
    "for app in application_types_to_replace:\n",
    "    application_df['APPLICATION_TYPE'] = application_df['APPLICATION_TYPE'].replace(app,\"Other\")\n",
    "\n",
    "# Check to make sure binning was successful\n",
    "application_df['APPLICATION_TYPE'].value_counts()"
   ]
  },
  {
   "cell_type": "code",
   "execution_count": 120,
   "metadata": {
    "id": "UwWl4cud5kCc"
   },
   "outputs": [],
   "source": [
    "# Look at CLASSIFICATION value counts for binning\n",
    "counts_binning = application_df['CLASSIFICATION'].value_counts()"
   ]
  },
  {
   "cell_type": "code",
   "execution_count": 121,
   "metadata": {
    "colab": {
     "base_uri": "https://localhost:8080/"
    },
    "id": "ebf_oPW95kCc",
    "outputId": "c42e8ce4-c140-41d1-9a83-4e8466be71a2"
   },
   "outputs": [
    {
     "data": {
      "text/plain": [
       "C1000    17326\n",
       "C2000     6074\n",
       "C1200     4837\n",
       "C3000     1918\n",
       "C2100     1883\n",
       "C7000      777\n",
       "C1700      287\n",
       "C4000      194\n",
       "C5000      116\n",
       "C1270      114\n",
       "C2700      104\n",
       "C2800       95\n",
       "C7100       75\n",
       "C1300       58\n",
       "C1280       50\n",
       "C1230       36\n",
       "C1400       34\n",
       "C7200       32\n",
       "C2300       32\n",
       "C1240       30\n",
       "C8000       20\n",
       "C7120       18\n",
       "C1500       16\n",
       "C1800       15\n",
       "C6000       15\n",
       "C1250       14\n",
       "C8200       11\n",
       "C1238       10\n",
       "C1278       10\n",
       "C1235        9\n",
       "C1237        9\n",
       "C7210        7\n",
       "C2400        6\n",
       "C1720        6\n",
       "C4100        6\n",
       "C1257        5\n",
       "C1600        5\n",
       "C1260        3\n",
       "C2710        3\n",
       "C0           3\n",
       "C3200        2\n",
       "C1234        2\n",
       "C1246        2\n",
       "C1267        2\n",
       "C1256        2\n",
       "Name: CLASSIFICATION, dtype: int64"
      ]
     },
     "execution_count": 121,
     "metadata": {},
     "output_type": "execute_result"
    }
   ],
   "source": [
    "# You may find it helpful to look at CLASSIFICATION value counts >1\n",
    "counts_classification = counts_binning[counts_binning>1]\n",
    "counts_classification"
   ]
  },
  {
   "cell_type": "code",
   "execution_count": 122,
   "metadata": {
    "colab": {
     "base_uri": "https://localhost:8080/"
    },
    "id": "oYdi-C4G5kCd",
    "outputId": "df3bca65-8770-4a9f-bb4a-fe8e1c7b8e0d"
   },
   "outputs": [
    {
     "data": {
      "text/plain": [
       "C1000    17326\n",
       "C2000     6074\n",
       "C1200     4837\n",
       "C3000     1918\n",
       "C2100     1883\n",
       "C7000      777\n",
       "Other      669\n",
       "C1700      287\n",
       "C4000      194\n",
       "C5000      116\n",
       "C1270      114\n",
       "C2700      104\n",
       "Name: CLASSIFICATION, dtype: int64"
      ]
     },
     "execution_count": 122,
     "metadata": {},
     "output_type": "execute_result"
    }
   ],
   "source": [
    "# Choose a cutoff value and create a list of classifications to be replaced\n",
    "# use the variable name `classifications_to_replace`\n",
    "classifications_to_replace = list (counts_binning[counts_binning<100].index)\n",
    "classifications_to_replace\n",
    "\n",
    "# Replace in dataframe\n",
    "for cls in classifications_to_replace:\n",
    "    application_df['CLASSIFICATION'] = application_df['CLASSIFICATION'].replace(cls,\"Other\")\n",
    "    \n",
    "# Check to make sure binning was successful\n",
    "application_df['CLASSIFICATION'].value_counts()"
   ]
  },
  {
   "cell_type": "code",
   "execution_count": 123,
   "metadata": {
    "colab": {
     "base_uri": "https://localhost:8080/",
     "height": 317
    },
    "id": "jWm8YJyr5kCe",
    "outputId": "81de463c-8c0c-4265-846e-00f8cb00c2f1"
   },
   "outputs": [
    {
     "data": {
      "text/html": [
       "<div>\n",
       "<style scoped>\n",
       "    .dataframe tbody tr th:only-of-type {\n",
       "        vertical-align: middle;\n",
       "    }\n",
       "\n",
       "    .dataframe tbody tr th {\n",
       "        vertical-align: top;\n",
       "    }\n",
       "\n",
       "    .dataframe thead th {\n",
       "        text-align: right;\n",
       "    }\n",
       "</style>\n",
       "<table border=\"1\" class=\"dataframe\">\n",
       "  <thead>\n",
       "    <tr style=\"text-align: right;\">\n",
       "      <th></th>\n",
       "      <th>STATUS</th>\n",
       "      <th>ASK_AMT</th>\n",
       "      <th>IS_SUCCESSFUL</th>\n",
       "      <th>APPLICATION_TYPE_Other</th>\n",
       "      <th>APPLICATION_TYPE_T10</th>\n",
       "      <th>APPLICATION_TYPE_T19</th>\n",
       "      <th>APPLICATION_TYPE_T3</th>\n",
       "      <th>APPLICATION_TYPE_T4</th>\n",
       "      <th>APPLICATION_TYPE_T5</th>\n",
       "      <th>APPLICATION_TYPE_T6</th>\n",
       "      <th>...</th>\n",
       "      <th>INCOME_AMT_1-9999</th>\n",
       "      <th>INCOME_AMT_10000-24999</th>\n",
       "      <th>INCOME_AMT_100000-499999</th>\n",
       "      <th>INCOME_AMT_10M-50M</th>\n",
       "      <th>INCOME_AMT_1M-5M</th>\n",
       "      <th>INCOME_AMT_25000-99999</th>\n",
       "      <th>INCOME_AMT_50M+</th>\n",
       "      <th>INCOME_AMT_5M-10M</th>\n",
       "      <th>SPECIAL_CONSIDERATIONS_N</th>\n",
       "      <th>SPECIAL_CONSIDERATIONS_Y</th>\n",
       "    </tr>\n",
       "  </thead>\n",
       "  <tbody>\n",
       "    <tr>\n",
       "      <th>0</th>\n",
       "      <td>1</td>\n",
       "      <td>5000</td>\n",
       "      <td>1</td>\n",
       "      <td>0</td>\n",
       "      <td>1</td>\n",
       "      <td>0</td>\n",
       "      <td>0</td>\n",
       "      <td>0</td>\n",
       "      <td>0</td>\n",
       "      <td>0</td>\n",
       "      <td>...</td>\n",
       "      <td>0</td>\n",
       "      <td>0</td>\n",
       "      <td>0</td>\n",
       "      <td>0</td>\n",
       "      <td>0</td>\n",
       "      <td>0</td>\n",
       "      <td>0</td>\n",
       "      <td>0</td>\n",
       "      <td>1</td>\n",
       "      <td>0</td>\n",
       "    </tr>\n",
       "    <tr>\n",
       "      <th>1</th>\n",
       "      <td>1</td>\n",
       "      <td>108590</td>\n",
       "      <td>1</td>\n",
       "      <td>0</td>\n",
       "      <td>0</td>\n",
       "      <td>0</td>\n",
       "      <td>1</td>\n",
       "      <td>0</td>\n",
       "      <td>0</td>\n",
       "      <td>0</td>\n",
       "      <td>...</td>\n",
       "      <td>1</td>\n",
       "      <td>0</td>\n",
       "      <td>0</td>\n",
       "      <td>0</td>\n",
       "      <td>0</td>\n",
       "      <td>0</td>\n",
       "      <td>0</td>\n",
       "      <td>0</td>\n",
       "      <td>1</td>\n",
       "      <td>0</td>\n",
       "    </tr>\n",
       "    <tr>\n",
       "      <th>2</th>\n",
       "      <td>1</td>\n",
       "      <td>5000</td>\n",
       "      <td>0</td>\n",
       "      <td>0</td>\n",
       "      <td>0</td>\n",
       "      <td>0</td>\n",
       "      <td>0</td>\n",
       "      <td>0</td>\n",
       "      <td>1</td>\n",
       "      <td>0</td>\n",
       "      <td>...</td>\n",
       "      <td>0</td>\n",
       "      <td>0</td>\n",
       "      <td>0</td>\n",
       "      <td>0</td>\n",
       "      <td>0</td>\n",
       "      <td>0</td>\n",
       "      <td>0</td>\n",
       "      <td>0</td>\n",
       "      <td>1</td>\n",
       "      <td>0</td>\n",
       "    </tr>\n",
       "    <tr>\n",
       "      <th>3</th>\n",
       "      <td>1</td>\n",
       "      <td>6692</td>\n",
       "      <td>1</td>\n",
       "      <td>0</td>\n",
       "      <td>0</td>\n",
       "      <td>0</td>\n",
       "      <td>1</td>\n",
       "      <td>0</td>\n",
       "      <td>0</td>\n",
       "      <td>0</td>\n",
       "      <td>...</td>\n",
       "      <td>0</td>\n",
       "      <td>1</td>\n",
       "      <td>0</td>\n",
       "      <td>0</td>\n",
       "      <td>0</td>\n",
       "      <td>0</td>\n",
       "      <td>0</td>\n",
       "      <td>0</td>\n",
       "      <td>1</td>\n",
       "      <td>0</td>\n",
       "    </tr>\n",
       "    <tr>\n",
       "      <th>4</th>\n",
       "      <td>1</td>\n",
       "      <td>142590</td>\n",
       "      <td>1</td>\n",
       "      <td>0</td>\n",
       "      <td>0</td>\n",
       "      <td>0</td>\n",
       "      <td>1</td>\n",
       "      <td>0</td>\n",
       "      <td>0</td>\n",
       "      <td>0</td>\n",
       "      <td>...</td>\n",
       "      <td>0</td>\n",
       "      <td>0</td>\n",
       "      <td>1</td>\n",
       "      <td>0</td>\n",
       "      <td>0</td>\n",
       "      <td>0</td>\n",
       "      <td>0</td>\n",
       "      <td>0</td>\n",
       "      <td>1</td>\n",
       "      <td>0</td>\n",
       "    </tr>\n",
       "  </tbody>\n",
       "</table>\n",
       "<p>5 rows × 50 columns</p>\n",
       "</div>"
      ],
      "text/plain": [
       "   STATUS  ASK_AMT  IS_SUCCESSFUL  APPLICATION_TYPE_Other  \\\n",
       "0       1     5000              1                       0   \n",
       "1       1   108590              1                       0   \n",
       "2       1     5000              0                       0   \n",
       "3       1     6692              1                       0   \n",
       "4       1   142590              1                       0   \n",
       "\n",
       "   APPLICATION_TYPE_T10  APPLICATION_TYPE_T19  APPLICATION_TYPE_T3  \\\n",
       "0                     1                     0                    0   \n",
       "1                     0                     0                    1   \n",
       "2                     0                     0                    0   \n",
       "3                     0                     0                    1   \n",
       "4                     0                     0                    1   \n",
       "\n",
       "   APPLICATION_TYPE_T4  APPLICATION_TYPE_T5  APPLICATION_TYPE_T6  ...  \\\n",
       "0                    0                    0                    0  ...   \n",
       "1                    0                    0                    0  ...   \n",
       "2                    0                    1                    0  ...   \n",
       "3                    0                    0                    0  ...   \n",
       "4                    0                    0                    0  ...   \n",
       "\n",
       "   INCOME_AMT_1-9999  INCOME_AMT_10000-24999  INCOME_AMT_100000-499999  \\\n",
       "0                  0                       0                         0   \n",
       "1                  1                       0                         0   \n",
       "2                  0                       0                         0   \n",
       "3                  0                       1                         0   \n",
       "4                  0                       0                         1   \n",
       "\n",
       "   INCOME_AMT_10M-50M  INCOME_AMT_1M-5M  INCOME_AMT_25000-99999  \\\n",
       "0                   0                 0                       0   \n",
       "1                   0                 0                       0   \n",
       "2                   0                 0                       0   \n",
       "3                   0                 0                       0   \n",
       "4                   0                 0                       0   \n",
       "\n",
       "   INCOME_AMT_50M+  INCOME_AMT_5M-10M  SPECIAL_CONSIDERATIONS_N  \\\n",
       "0                0                  0                         1   \n",
       "1                0                  0                         1   \n",
       "2                0                  0                         1   \n",
       "3                0                  0                         1   \n",
       "4                0                  0                         1   \n",
       "\n",
       "   SPECIAL_CONSIDERATIONS_Y  \n",
       "0                         0  \n",
       "1                         0  \n",
       "2                         0  \n",
       "3                         0  \n",
       "4                         0  \n",
       "\n",
       "[5 rows x 50 columns]"
      ]
     },
     "execution_count": 123,
     "metadata": {},
     "output_type": "execute_result"
    }
   ],
   "source": [
    "# Convert categorical data to numeric with `pd.get_dummies`\n",
    "# application_df = pd.get_dummies(application_df,dtype=float)\n",
    "# Instead of specifying the dtype parameter as float, we can use dtype='int64' to save memory since the one-hot encoded variables are binary (i.e., 0 or 1) and can be represented using integers. \n",
    "# This will not change the output of the code, but it will make the code more efficient in terms of memory usage.\n",
    "application_df = pd.get_dummies(application_df, dtype='int64')\n",
    "application_df.head()"
   ]
  },
  {
   "cell_type": "code",
   "execution_count": 124,
   "metadata": {
    "id": "liweKOY55kCe"
   },
   "outputs": [],
   "source": [
    "# Split our preprocessed data into our features and target arrays\n",
    "y = application_df['IS_SUCCESSFUL'].values\n",
    "\n",
    "# drop 'IS SUCCESSFUL'\n",
    "X = application_df.drop('IS_SUCCESSFUL', axis=1).values\n",
    "\n",
    "# Split the preprocessed data into a training and testing dataset\n",
    "X_train, X_test, y_train, y_test = train_test_split(X,y,random_state = 42)"
   ]
  },
  {
   "cell_type": "code",
   "execution_count": 125,
   "metadata": {
    "colab": {
     "base_uri": "https://localhost:8080/"
    },
    "id": "pHrZZ3PL5kCe",
    "outputId": "ca89940f-7855-42c0-c11f-198c6ef8716a"
   },
   "outputs": [
    {
     "name": "stdout",
     "output_type": "stream",
     "text": [
      "(25724, 49)\n"
     ]
    }
   ],
   "source": [
    "# Create a StandardScaler instances\n",
    "scaler = StandardScaler()\n",
    "\n",
    "# Fit the StandardScaler\n",
    "X_scaler = scaler.fit(X_train)\n",
    "\n",
    "# Scale the data\n",
    "X_train_scaled = X_scaler.transform(X_train)\n",
    "X_test_scaled = X_scaler.transform(X_test)\n",
    "\n",
    "print(X_train_scaled.shape)"
   ]
  },
  {
   "cell_type": "markdown",
   "metadata": {
    "id": "BK9URwTI5kCf"
   },
   "source": [
    "## Compile, Train and Evaluate the Model"
   ]
  },
  {
   "cell_type": "code",
   "execution_count": 142,
   "metadata": {
    "colab": {
     "base_uri": "https://localhost:8080/"
    },
    "id": "F5YEJ55I5kCf",
    "outputId": "570b120a-01b0-4677-cd04-ec266e006f49"
   },
   "outputs": [
    {
     "name": "stdout",
     "output_type": "stream",
     "text": [
      "Model: \"sequential_28\"\n",
      "_________________________________________________________________\n",
      " Layer (type)                Output Shape              Param #   \n",
      "=================================================================\n",
      " dense_162 (Dense)           (None, 120)               6000      \n",
      "                                                                 \n",
      " dense_163 (Dense)           (None, 120)               14520     \n",
      "                                                                 \n",
      " dense_164 (Dense)           (None, 120)               14520     \n",
      "                                                                 \n",
      " dense_165 (Dense)           (None, 80)                9680      \n",
      "                                                                 \n",
      " dense_166 (Dense)           (None, 60)                4860      \n",
      "                                                                 \n",
      " dense_167 (Dense)           (None, 50)                3050      \n",
      "                                                                 \n",
      " dense_168 (Dense)           (None, 10)                510       \n",
      "                                                                 \n",
      " dense_169 (Dense)           (None, 10)                110       \n",
      "                                                                 \n",
      " dense_170 (Dense)           (None, 1)                 11        \n",
      "                                                                 \n",
      "=================================================================\n",
      "Total params: 53,261\n",
      "Trainable params: 53,261\n",
      "Non-trainable params: 0\n",
      "_________________________________________________________________\n"
     ]
    }
   ],
   "source": [
    "# Define the model - deep neural net, i.e., the number of input features and hidden nodes for each layer.\n",
    "number_input_features=len(X_train_scaled[0])\n",
    "hidden_nodes_layer1=120\n",
    "hidden_nodes_layer2=120\n",
    "hidden_nodes_layer3=120\n",
    "hidden_nodes_layer4=80\n",
    "hidden_nodes_layer5=60\n",
    "hidden_nodes_layer6=50\n",
    "hidden_nodes_layer7=10\n",
    "hidden_nodes_layer8=10\n",
    "nn = tf.keras.models.Sequential()\n",
    "\n",
    "# First hidden layer\n",
    "\n",
    "nn.add(tf.keras.layers.Dense(units=hidden_nodes_layer1, input_dim=number_input_features, activation=\"relu\"))\n",
    "# Second hidden layer\n",
    "\n",
    "nn.add(tf.keras.layers.Dense(units=hidden_nodes_layer2, input_dim=number_input_features, activation=\"relu\"))\n",
    "# Third hidden layer\n",
    "nn.add(tf.keras.layers.Dense(units=hidden_nodes_layer3, input_dim=number_input_features, activation=\"relu\"))\n",
    "# Fourth hidden layer\n",
    "nn.add(tf.keras.layers.Dense(units=hidden_nodes_layer4, input_dim=number_input_features, activation=\"relu\"))\n",
    "nn.add(tf.keras.layers.Dense(units=hidden_nodes_layer5, input_dim=number_input_features, activation=\"relu\"))\n",
    "nn.add(tf.keras.layers.Dense(units=hidden_nodes_layer6, input_dim=number_input_features, activation=\"relu\"))\n",
    "nn.add(tf.keras.layers.Dense(units=hidden_nodes_layer7, input_dim=number_input_features, activation=\"relu\"))\n",
    "nn.add(tf.keras.layers.Dense(units=hidden_nodes_layer8, input_dim=number_input_features, activation=\"relu\"))\n",
    "# Output layer\n",
    "\n",
    "nn.add(tf.keras.layers.Dense(units=1, activation=\"sigmoid\"))\n",
    "# Check the structure of the model\n",
    "nn.summary()"
   ]
  },
  {
   "cell_type": "code",
   "execution_count": 143,
   "metadata": {
    "id": "QAfdSZ4m5kCg"
   },
   "outputs": [],
   "source": [
    "# Compile the model\n",
    "nn.compile(loss = 'binary_crossentropy', optimizer = 'adam', metrics=['accuracy'])"
   ]
  },
  {
   "cell_type": "code",
   "execution_count": 144,
   "metadata": {
    "colab": {
     "base_uri": "https://localhost:8080/"
    },
    "id": "OSU9uidM5kCg",
    "outputId": "91d0b7f6-c1da-450b-c7be-8ad091687a65"
   },
   "outputs": [
    {
     "name": "stdout",
     "output_type": "stream",
     "text": [
      "Epoch 1/100\n",
      "684/684 [==============================] - 4s 3ms/step - loss: 0.5712 - accuracy: 0.7179 - val_loss: 0.5504 - val_accuracy: 0.7349\n",
      "Epoch 2/100\n",
      "684/684 [==============================] - 2s 3ms/step - loss: 0.5558 - accuracy: 0.7282 - val_loss: 0.5457 - val_accuracy: 0.7341\n",
      "Epoch 3/100\n",
      "684/684 [==============================] - 3s 4ms/step - loss: 0.5536 - accuracy: 0.7294 - val_loss: 0.5503 - val_accuracy: 0.7359\n",
      "Epoch 4/100\n",
      "684/684 [==============================] - 3s 4ms/step - loss: 0.5501 - accuracy: 0.7307 - val_loss: 0.5420 - val_accuracy: 0.7359\n",
      "Epoch 5/100\n",
      "684/684 [==============================] - 2s 3ms/step - loss: 0.5491 - accuracy: 0.7315 - val_loss: 0.5446 - val_accuracy: 0.7357\n",
      "Epoch 6/100\n",
      "684/684 [==============================] - 2s 4ms/step - loss: 0.5479 - accuracy: 0.7320 - val_loss: 0.5466 - val_accuracy: 0.7344\n",
      "Epoch 7/100\n",
      "684/684 [==============================] - 3s 5ms/step - loss: 0.5485 - accuracy: 0.7304 - val_loss: 0.5430 - val_accuracy: 0.7349\n",
      "Epoch 8/100\n",
      "684/684 [==============================] - 3s 4ms/step - loss: 0.5463 - accuracy: 0.7338 - val_loss: 0.5467 - val_accuracy: 0.7362\n",
      "Epoch 9/100\n",
      "684/684 [==============================] - 2s 4ms/step - loss: 0.5463 - accuracy: 0.7329 - val_loss: 0.5462 - val_accuracy: 0.7357\n",
      "Epoch 10/100\n",
      "684/684 [==============================] - 3s 4ms/step - loss: 0.5444 - accuracy: 0.7345 - val_loss: 0.5454 - val_accuracy: 0.7362\n",
      "Epoch 11/100\n",
      "684/684 [==============================] - 2s 3ms/step - loss: 0.5445 - accuracy: 0.7335 - val_loss: 0.5472 - val_accuracy: 0.7336\n",
      "Epoch 12/100\n",
      "684/684 [==============================] - 3s 4ms/step - loss: 0.5461 - accuracy: 0.7331 - val_loss: 0.5490 - val_accuracy: 0.7323\n",
      "Epoch 13/100\n",
      "684/684 [==============================] - 3s 4ms/step - loss: 0.5436 - accuracy: 0.7349 - val_loss: 0.5413 - val_accuracy: 0.7375\n",
      "Epoch 14/100\n",
      "684/684 [==============================] - 2s 3ms/step - loss: 0.5430 - accuracy: 0.7356 - val_loss: 0.5423 - val_accuracy: 0.7367\n",
      "Epoch 15/100\n",
      "684/684 [==============================] - 2s 3ms/step - loss: 0.5434 - accuracy: 0.7349 - val_loss: 0.5415 - val_accuracy: 0.7378\n",
      "Epoch 16/100\n",
      "684/684 [==============================] - 2s 3ms/step - loss: 0.5420 - accuracy: 0.7332 - val_loss: 0.5421 - val_accuracy: 0.7383\n",
      "Epoch 17/100\n",
      "684/684 [==============================] - 2s 3ms/step - loss: 0.5409 - accuracy: 0.7359 - val_loss: 0.5446 - val_accuracy: 0.7383\n",
      "Epoch 18/100\n",
      "684/684 [==============================] - 2s 3ms/step - loss: 0.5410 - accuracy: 0.7349 - val_loss: 0.5406 - val_accuracy: 0.7349\n",
      "Epoch 19/100\n",
      "684/684 [==============================] - 2s 3ms/step - loss: 0.5412 - accuracy: 0.7343 - val_loss: 0.5432 - val_accuracy: 0.7336\n",
      "Epoch 20/100\n",
      "684/684 [==============================] - 2s 3ms/step - loss: 0.5408 - accuracy: 0.7351 - val_loss: 0.5455 - val_accuracy: 0.7354\n",
      "Epoch 21/100\n",
      "684/684 [==============================] - 2s 3ms/step - loss: 0.5401 - accuracy: 0.7350 - val_loss: 0.5434 - val_accuracy: 0.7334\n",
      "Epoch 22/100\n",
      "684/684 [==============================] - 2s 3ms/step - loss: 0.5396 - accuracy: 0.7352 - val_loss: 0.5522 - val_accuracy: 0.7305\n",
      "Epoch 23/100\n",
      "684/684 [==============================] - 2s 3ms/step - loss: 0.5391 - accuracy: 0.7364 - val_loss: 0.5414 - val_accuracy: 0.7352\n",
      "Epoch 24/100\n",
      "684/684 [==============================] - 2s 3ms/step - loss: 0.5391 - accuracy: 0.7356 - val_loss: 0.5460 - val_accuracy: 0.7305\n",
      "Epoch 25/100\n",
      "684/684 [==============================] - 2s 3ms/step - loss: 0.5396 - accuracy: 0.7344 - val_loss: 0.5424 - val_accuracy: 0.7341\n",
      "Epoch 26/100\n",
      "684/684 [==============================] - 2s 3ms/step - loss: 0.5394 - accuracy: 0.7347 - val_loss: 0.5405 - val_accuracy: 0.7367\n",
      "Epoch 27/100\n",
      "684/684 [==============================] - 2s 3ms/step - loss: 0.5387 - accuracy: 0.7355 - val_loss: 0.5446 - val_accuracy: 0.7383\n",
      "Epoch 28/100\n",
      "684/684 [==============================] - 2s 3ms/step - loss: 0.5381 - accuracy: 0.7356 - val_loss: 0.5420 - val_accuracy: 0.7331\n",
      "Epoch 29/100\n",
      "684/684 [==============================] - 2s 3ms/step - loss: 0.5385 - accuracy: 0.7356 - val_loss: 0.5462 - val_accuracy: 0.7378\n",
      "Epoch 30/100\n",
      "684/684 [==============================] - 2s 3ms/step - loss: 0.5377 - accuracy: 0.7359 - val_loss: 0.5398 - val_accuracy: 0.7372\n",
      "Epoch 31/100\n",
      "684/684 [==============================] - 2s 3ms/step - loss: 0.5367 - accuracy: 0.7371 - val_loss: 0.5447 - val_accuracy: 0.7352\n",
      "Epoch 32/100\n",
      "684/684 [==============================] - 2s 3ms/step - loss: 0.5379 - accuracy: 0.7363 - val_loss: 0.5420 - val_accuracy: 0.7359\n",
      "Epoch 33/100\n",
      "684/684 [==============================] - 3s 4ms/step - loss: 0.5379 - accuracy: 0.7363 - val_loss: 0.5426 - val_accuracy: 0.7367\n",
      "Epoch 34/100\n",
      "684/684 [==============================] - 2s 3ms/step - loss: 0.5368 - accuracy: 0.7380 - val_loss: 0.5427 - val_accuracy: 0.7375\n",
      "Epoch 35/100\n",
      "684/684 [==============================] - 2s 3ms/step - loss: 0.5365 - accuracy: 0.7359 - val_loss: 0.5428 - val_accuracy: 0.7367\n",
      "Epoch 36/100\n",
      "684/684 [==============================] - 2s 3ms/step - loss: 0.5369 - accuracy: 0.7372 - val_loss: 0.5440 - val_accuracy: 0.7341\n",
      "Epoch 37/100\n",
      "684/684 [==============================] - 2s 3ms/step - loss: 0.5365 - accuracy: 0.7375 - val_loss: 0.5413 - val_accuracy: 0.7349\n",
      "Epoch 38/100\n",
      "684/684 [==============================] - 2s 3ms/step - loss: 0.5356 - accuracy: 0.7382 - val_loss: 0.5468 - val_accuracy: 0.7352\n",
      "Epoch 39/100\n",
      "684/684 [==============================] - 2s 4ms/step - loss: 0.5357 - accuracy: 0.7367 - val_loss: 0.5456 - val_accuracy: 0.7196\n",
      "Epoch 40/100\n",
      "684/684 [==============================] - 2s 3ms/step - loss: 0.5377 - accuracy: 0.7357 - val_loss: 0.5452 - val_accuracy: 0.7372\n",
      "Epoch 41/100\n",
      "684/684 [==============================] - 2s 3ms/step - loss: 0.5358 - accuracy: 0.7368 - val_loss: 0.5440 - val_accuracy: 0.7359\n",
      "Epoch 42/100\n",
      "684/684 [==============================] - 2s 4ms/step - loss: 0.5351 - accuracy: 0.7378 - val_loss: 0.5472 - val_accuracy: 0.7370\n",
      "Epoch 43/100\n",
      "684/684 [==============================] - 3s 4ms/step - loss: 0.5358 - accuracy: 0.7390 - val_loss: 0.5425 - val_accuracy: 0.7378\n",
      "Epoch 44/100\n",
      "684/684 [==============================] - 2s 3ms/step - loss: 0.5346 - accuracy: 0.7382 - val_loss: 0.5482 - val_accuracy: 0.7378\n",
      "Epoch 45/100\n",
      "684/684 [==============================] - 2s 3ms/step - loss: 0.5352 - accuracy: 0.7376 - val_loss: 0.5482 - val_accuracy: 0.7380\n",
      "Epoch 46/100\n",
      "684/684 [==============================] - 2s 3ms/step - loss: 0.5347 - accuracy: 0.7365 - val_loss: 0.5454 - val_accuracy: 0.7393\n",
      "Epoch 47/100\n",
      "684/684 [==============================] - 2s 3ms/step - loss: 0.5346 - accuracy: 0.7382 - val_loss: 0.5454 - val_accuracy: 0.7370\n",
      "Epoch 48/100\n",
      "684/684 [==============================] - 3s 5ms/step - loss: 0.5341 - accuracy: 0.7392 - val_loss: 0.5490 - val_accuracy: 0.7388\n",
      "Epoch 49/100\n",
      "684/684 [==============================] - 2s 3ms/step - loss: 0.5338 - accuracy: 0.7391 - val_loss: 0.5489 - val_accuracy: 0.7370\n",
      "Epoch 50/100\n",
      "684/684 [==============================] - 2s 3ms/step - loss: 0.5342 - accuracy: 0.7385 - val_loss: 0.5705 - val_accuracy: 0.7339\n",
      "Epoch 51/100\n",
      "684/684 [==============================] - 2s 3ms/step - loss: 0.5352 - accuracy: 0.7377 - val_loss: 0.5435 - val_accuracy: 0.7367\n",
      "Epoch 52/100\n",
      "684/684 [==============================] - 2s 3ms/step - loss: 0.5332 - accuracy: 0.7383 - val_loss: 0.5464 - val_accuracy: 0.7367\n",
      "Epoch 53/100\n",
      "684/684 [==============================] - 2s 4ms/step - loss: 0.5333 - accuracy: 0.7381 - val_loss: 0.5454 - val_accuracy: 0.7375\n",
      "Epoch 54/100\n",
      "684/684 [==============================] - 3s 4ms/step - loss: 0.5341 - accuracy: 0.7381 - val_loss: 0.5519 - val_accuracy: 0.7359\n",
      "Epoch 55/100\n",
      "684/684 [==============================] - 2s 3ms/step - loss: 0.5331 - accuracy: 0.7387 - val_loss: 0.5448 - val_accuracy: 0.7388\n",
      "Epoch 56/100\n",
      "684/684 [==============================] - 3s 5ms/step - loss: 0.5334 - accuracy: 0.7390 - val_loss: 0.5563 - val_accuracy: 0.7359\n",
      "Epoch 57/100\n",
      "684/684 [==============================] - 3s 4ms/step - loss: 0.5322 - accuracy: 0.7390 - val_loss: 0.5559 - val_accuracy: 0.7341\n"
     ]
    },
    {
     "name": "stdout",
     "output_type": "stream",
     "text": [
      "Epoch 58/100\n",
      "684/684 [==============================] - 2s 3ms/step - loss: 0.5346 - accuracy: 0.7381 - val_loss: 0.5420 - val_accuracy: 0.7362\n",
      "Epoch 59/100\n",
      "684/684 [==============================] - 2s 3ms/step - loss: 0.5344 - accuracy: 0.7342 - val_loss: 0.5496 - val_accuracy: 0.7354\n",
      "Epoch 60/100\n",
      "684/684 [==============================] - 2s 3ms/step - loss: 0.5344 - accuracy: 0.7371 - val_loss: 0.5458 - val_accuracy: 0.7388\n",
      "Epoch 61/100\n",
      "684/684 [==============================] - 2s 3ms/step - loss: 0.5328 - accuracy: 0.7392 - val_loss: 0.5516 - val_accuracy: 0.7393\n",
      "Epoch 62/100\n",
      "684/684 [==============================] - 3s 4ms/step - loss: 0.5325 - accuracy: 0.7392 - val_loss: 0.5496 - val_accuracy: 0.7388\n",
      "Epoch 63/100\n",
      "684/684 [==============================] - 2s 3ms/step - loss: 0.5324 - accuracy: 0.7394 - val_loss: 0.5491 - val_accuracy: 0.7388\n",
      "Epoch 64/100\n",
      "684/684 [==============================] - 2s 3ms/step - loss: 0.5320 - accuracy: 0.7386 - val_loss: 0.5508 - val_accuracy: 0.7378\n",
      "Epoch 65/100\n",
      "684/684 [==============================] - 3s 4ms/step - loss: 0.5333 - accuracy: 0.7369 - val_loss: 0.5628 - val_accuracy: 0.7375\n",
      "Epoch 66/100\n",
      "684/684 [==============================] - 2s 3ms/step - loss: 0.5327 - accuracy: 0.7381 - val_loss: 0.5451 - val_accuracy: 0.7372\n",
      "Epoch 67/100\n",
      "684/684 [==============================] - 2s 4ms/step - loss: 0.5327 - accuracy: 0.7372 - val_loss: 0.5516 - val_accuracy: 0.7396\n",
      "Epoch 68/100\n",
      "684/684 [==============================] - 3s 4ms/step - loss: 0.5335 - accuracy: 0.7379 - val_loss: 0.5573 - val_accuracy: 0.7375\n",
      "Epoch 69/100\n",
      "684/684 [==============================] - 3s 4ms/step - loss: 0.5337 - accuracy: 0.7378 - val_loss: 0.5655 - val_accuracy: 0.7383\n",
      "Epoch 70/100\n",
      "684/684 [==============================] - 3s 4ms/step - loss: 0.5324 - accuracy: 0.7360 - val_loss: 0.5564 - val_accuracy: 0.7362\n",
      "Epoch 71/100\n",
      "684/684 [==============================] - 2s 3ms/step - loss: 0.5327 - accuracy: 0.7362 - val_loss: 0.5534 - val_accuracy: 0.7362\n",
      "Epoch 72/100\n",
      "684/684 [==============================] - 2s 3ms/step - loss: 0.5320 - accuracy: 0.7383 - val_loss: 0.5612 - val_accuracy: 0.7378\n",
      "Epoch 73/100\n",
      "684/684 [==============================] - 2s 3ms/step - loss: 0.5315 - accuracy: 0.7384 - val_loss: 0.5657 - val_accuracy: 0.7393\n",
      "Epoch 74/100\n",
      "684/684 [==============================] - 2s 3ms/step - loss: 0.5322 - accuracy: 0.7376 - val_loss: 0.5531 - val_accuracy: 0.7367\n",
      "Epoch 75/100\n",
      "684/684 [==============================] - 2s 3ms/step - loss: 0.5341 - accuracy: 0.7377 - val_loss: 0.5593 - val_accuracy: 0.7375\n",
      "Epoch 76/100\n",
      "684/684 [==============================] - 2s 3ms/step - loss: 0.5321 - accuracy: 0.7384 - val_loss: 0.5627 - val_accuracy: 0.7359\n",
      "Epoch 77/100\n",
      "684/684 [==============================] - 2s 3ms/step - loss: 0.5336 - accuracy: 0.7382 - val_loss: 0.5474 - val_accuracy: 0.7383\n",
      "Epoch 78/100\n",
      "684/684 [==============================] - 2s 3ms/step - loss: 0.5322 - accuracy: 0.7384 - val_loss: 0.5546 - val_accuracy: 0.7367\n",
      "Epoch 79/100\n",
      "684/684 [==============================] - 2s 3ms/step - loss: 0.5317 - accuracy: 0.7391 - val_loss: 0.5647 - val_accuracy: 0.7378\n",
      "Epoch 80/100\n",
      "684/684 [==============================] - 2s 3ms/step - loss: 0.5317 - accuracy: 0.7390 - val_loss: 0.5607 - val_accuracy: 0.7367\n",
      "Epoch 81/100\n",
      "684/684 [==============================] - 2s 3ms/step - loss: 0.5312 - accuracy: 0.7383 - val_loss: 0.5586 - val_accuracy: 0.7403\n",
      "Epoch 82/100\n",
      "684/684 [==============================] - 2s 3ms/step - loss: 0.5305 - accuracy: 0.7394 - val_loss: 0.5637 - val_accuracy: 0.7388\n",
      "Epoch 83/100\n",
      "684/684 [==============================] - 2s 3ms/step - loss: 0.5315 - accuracy: 0.7389 - val_loss: 0.5581 - val_accuracy: 0.7378\n",
      "Epoch 84/100\n",
      "684/684 [==============================] - 2s 3ms/step - loss: 0.5319 - accuracy: 0.7380 - val_loss: 0.5652 - val_accuracy: 0.7380\n",
      "Epoch 85/100\n",
      "684/684 [==============================] - 2s 3ms/step - loss: 0.5323 - accuracy: 0.7358 - val_loss: 0.5541 - val_accuracy: 0.7398\n",
      "Epoch 86/100\n",
      "684/684 [==============================] - 2s 3ms/step - loss: 0.5306 - accuracy: 0.7389 - val_loss: 0.5559 - val_accuracy: 0.7401\n",
      "Epoch 87/100\n",
      "684/684 [==============================] - 2s 3ms/step - loss: 0.5308 - accuracy: 0.7391 - val_loss: 0.5682 - val_accuracy: 0.7385\n",
      "Epoch 88/100\n",
      "684/684 [==============================] - 3s 4ms/step - loss: 0.5314 - accuracy: 0.7395 - val_loss: 0.5499 - val_accuracy: 0.7362\n",
      "Epoch 89/100\n",
      "684/684 [==============================] - 2s 3ms/step - loss: 0.5313 - accuracy: 0.7380 - val_loss: 0.5469 - val_accuracy: 0.7372\n",
      "Epoch 90/100\n",
      "684/684 [==============================] - 3s 4ms/step - loss: 0.5306 - accuracy: 0.7385 - val_loss: 0.5613 - val_accuracy: 0.7388\n",
      "Epoch 91/100\n",
      "684/684 [==============================] - 2s 3ms/step - loss: 0.5317 - accuracy: 0.7380 - val_loss: 0.5514 - val_accuracy: 0.7380\n",
      "Epoch 92/100\n",
      "684/684 [==============================] - 2s 3ms/step - loss: 0.5298 - accuracy: 0.7376 - val_loss: 0.5592 - val_accuracy: 0.7339\n",
      "Epoch 93/100\n",
      "684/684 [==============================] - 3s 4ms/step - loss: 0.5316 - accuracy: 0.7376 - val_loss: 0.5535 - val_accuracy: 0.7346\n",
      "Epoch 94/100\n",
      "684/684 [==============================] - 3s 5ms/step - loss: 0.5302 - accuracy: 0.7389 - val_loss: 0.5476 - val_accuracy: 0.7349\n",
      "Epoch 95/100\n",
      "684/684 [==============================] - 2s 4ms/step - loss: 0.5321 - accuracy: 0.7394 - val_loss: 0.5515 - val_accuracy: 0.7349\n",
      "Epoch 96/100\n",
      "684/684 [==============================] - 3s 5ms/step - loss: 0.5308 - accuracy: 0.7387 - val_loss: 0.5523 - val_accuracy: 0.7370\n",
      "Epoch 97/100\n",
      "684/684 [==============================] - 3s 4ms/step - loss: 0.5310 - accuracy: 0.7383 - val_loss: 0.5551 - val_accuracy: 0.7365\n",
      "Epoch 98/100\n",
      "684/684 [==============================] - 2s 3ms/step - loss: 0.5305 - accuracy: 0.7392 - val_loss: 0.5641 - val_accuracy: 0.7346\n",
      "Epoch 99/100\n",
      "684/684 [==============================] - 2s 3ms/step - loss: 0.5308 - accuracy: 0.7391 - val_loss: 0.5502 - val_accuracy: 0.7349\n",
      "Epoch 100/100\n",
      "684/684 [==============================] - 2s 3ms/step - loss: 0.5321 - accuracy: 0.7392 - val_loss: 0.5541 - val_accuracy: 0.7352\n"
     ]
    }
   ],
   "source": [
    "# Train the model\n",
    "fit_model = nn.fit(X_train_scaled,y_train,validation_split=0.15, epochs=100)\n"
   ]
  },
  {
   "cell_type": "code",
   "execution_count": 145,
   "metadata": {
    "colab": {
     "base_uri": "https://localhost:8080/"
    },
    "id": "WvnLOSHv5kCh",
    "outputId": "6bd2a1df-948a-4b63-9c86-670015771492"
   },
   "outputs": [
    {
     "name": "stdout",
     "output_type": "stream",
     "text": [
      "268/268 - 1s - loss: 0.5794 - accuracy: 0.7292 - 588ms/epoch - 2ms/step\n",
      "Loss: 0.5793757438659668, Accuracy: 0.7292128205299377\n"
     ]
    }
   ],
   "source": [
    "# Evaluate the model using the test data\n",
    "model_loss, model_accuracy = nn.evaluate(X_test_scaled,y_test,verbose=2)\n",
    "print(f\"Loss: {model_loss}, Accuracy: {model_accuracy}\")"
   ]
  },
  {
   "cell_type": "code",
   "execution_count": 146,
   "metadata": {
    "colab": {
     "base_uri": "https://localhost:8080/",
     "height": 17
    },
    "id": "ga-REbpO5kCh",
    "outputId": "2f1e31e7-2e7e-4ad4-9d1b-39ad8b2a5156"
   },
   "outputs": [],
   "source": [
    "# Export our model to HDF5 file\n",
    "# from google.colab import files\n",
    "\n",
    "nn_model.save('AlphabetSoupCharity_Optimization.h5')\n",
    "# files.download('AlphabetSoupCharity.h5')"
   ]
  },
  {
   "cell_type": "code",
   "execution_count": null,
   "metadata": {},
   "outputs": [],
   "source": []
  }
 ],
 "metadata": {
  "colab": {
   "provenance": []
  },
  "kernelspec": {
   "display_name": "Python 3 (ipykernel)",
   "language": "python",
   "name": "python3"
  },
  "language_info": {
   "codemirror_mode": {
    "name": "ipython",
    "version": 3
   },
   "file_extension": ".py",
   "mimetype": "text/x-python",
   "name": "python",
   "nbconvert_exporter": "python",
   "pygments_lexer": "ipython3",
   "version": "3.7.13"
  },
  "vscode": {
   "interpreter": {
    "hash": "31f2aee4e71d21fbe5cf8b01ff0e069b9275f58929596ceb00d14d90e3e16cd6"
   }
  }
 },
 "nbformat": 4,
 "nbformat_minor": 1
}
